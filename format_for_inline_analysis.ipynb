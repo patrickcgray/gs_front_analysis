{
 "cells": [
  {
   "cell_type": "markdown",
   "id": "fb0c5c01-49de-4321-a69d-6643c10c49b8",
   "metadata": {},
   "source": [
    "### Convert TSG and Flow Meter Data to Correct Format for Inline Analysis\n",
    "\n",
    "This converts from Shearwater formats to InlineAnalysis formats"
   ]
  },
  {
   "cell_type": "markdown",
   "id": "8b4cfd23-28a8-4a53-91e9-eaef2a628010",
   "metadata": {},
   "source": [
    "### First for the August Cruise"
   ]
  },
  {
   "cell_type": "code",
   "execution_count": null,
   "id": "e0347e6a-b7d9-4652-9590-30cc3ead17aa",
   "metadata": {},
   "outputs": [],
   "source": [
    "TSG format is\n",
    "\n",
    "lat=43 47.66737 N, lon=069 57.81890 W, hms=122029, dmy=040821, t1=18.254000, c1=4.118110, s=30.812400, sigma=22.007600"
   ]
  },
  {
   "cell_type": "markdown",
   "id": "3a7d10d5-9515-4149-955c-04c57bb84bf4",
   "metadata": {},
   "source": [
    "My TSG data is formatted as :\n",
    "09/04/2021,22:57:51.709,        26.5469        36.0464      1539.56\n",
    "\n",
    "    \n",
    "My GPS data is:\n",
    "09/04/2021,22:23:40.089,$GPZDA,222709.67,04,09,2021,00,00*67\n"
   ]
  },
  {
   "cell_type": "code",
   "execution_count": null,
   "id": "ef53cd17-fee4-4299-9d1e-102fe431a9e2",
   "metadata": {},
   "outputs": [],
   "source": [
    "data_src='data/'"
   ]
  },
  {
   "cell_type": "markdown",
   "id": "92e7b270-62d0-4afd-85eb-f18e079dda38",
   "metadata": {},
   "source": [
    "#### Convert to proper format"
   ]
  },
  {
   "cell_type": "code",
   "execution_count": 39,
   "id": "eb753e64-c4fa-4e86-b4cd-4e5b179144b7",
   "metadata": {},
   "outputs": [],
   "source": [
    "import matplotlib.pyplot as plt\n"
   ]
  },
  {
   "cell_type": "code",
   "execution_count": 1,
   "id": "2928ba8c-8655-4cc5-8a68-4a8e8311dec9",
   "metadata": {},
   "outputs": [
    {
     "name": "stderr",
     "output_type": "stream",
     "text": [
      "<ipython-input-1-f6515d7470f1>:3: ParserWarning: Falling back to the 'python' engine because the 'c' engine does not support regex separators (separators > 1 char and different from '\\s+' are interpreted as regex); you can avoid this warning by specifying engine='python'.\n",
      "  tsg_original = pd.read_csv('data/SW21009R_NRL/TSG/TSG-_20210825-082425.Raw', sep='        |,|      ', header=None, names=['date', 'time', 'delete', 'T', 'S', 'unknown'])\n"
     ]
    }
   ],
   "source": [
    "import pandas as pd\n",
    "\n",
    "tsg_original = pd.read_csv(data_src+'SW21009R_NRL/TSG/TSG-_20210825-082425.Raw', sep='        |,|      ', header=None, names=['date', 'time', 'delete', 'T', 'S', 'unknown'])\n",
    "\n",
    "gps_original = pd.read_csv(data_src+'SW21009R_NRL/Navigation/SW-GGA_20210825-082425.Raw', header=None,\n",
    "                           names=['date', 'time', 'gps', 'unknown', 'latdms', 'lat_sign', 'londms', 'lon_sign', '1', '2', '3', '4', '5', '6', '7'])"
   ]
  },
  {
   "cell_type": "code",
   "execution_count": 2,
   "id": "20da5a80-1aa5-4fe2-b5ac-1b07125e9a9b",
   "metadata": {},
   "outputs": [],
   "source": [
    "tsg_original['datetime'] = pd.to_datetime(tsg_original['date'] + ' ' + tsg_original['time'])"
   ]
  },
  {
   "cell_type": "code",
   "execution_count": 3,
   "id": "7cacb01d-197a-4005-b6a6-7ffd31c3490a",
   "metadata": {},
   "outputs": [],
   "source": [
    "tsg_original = tsg_original.set_index('datetime')"
   ]
  },
  {
   "cell_type": "code",
   "execution_count": 4,
   "id": "9d9710ac-7746-4823-a9c8-72f7b82ec4b0",
   "metadata": {},
   "outputs": [],
   "source": [
    "tsg_original['datetime'] = pd.to_datetime(tsg_original['date'] + ' ' + tsg_original['time'])"
   ]
  },
  {
   "cell_type": "code",
   "execution_count": 5,
   "id": "d7ddd4ca-c25c-4e70-8bfd-e83be0e528e4",
   "metadata": {},
   "outputs": [
    {
     "data": {
      "text/html": [
       "<div>\n",
       "<style scoped>\n",
       "    .dataframe tbody tr th:only-of-type {\n",
       "        vertical-align: middle;\n",
       "    }\n",
       "\n",
       "    .dataframe tbody tr th {\n",
       "        vertical-align: top;\n",
       "    }\n",
       "\n",
       "    .dataframe thead th {\n",
       "        text-align: right;\n",
       "    }\n",
       "</style>\n",
       "<table border=\"1\" class=\"dataframe\">\n",
       "  <thead>\n",
       "    <tr style=\"text-align: right;\">\n",
       "      <th></th>\n",
       "      <th>date</th>\n",
       "      <th>time</th>\n",
       "      <th>delete</th>\n",
       "      <th>T</th>\n",
       "      <th>S</th>\n",
       "      <th>unknown</th>\n",
       "      <th>datetime</th>\n",
       "    </tr>\n",
       "    <tr>\n",
       "      <th>datetime</th>\n",
       "      <th></th>\n",
       "      <th></th>\n",
       "      <th></th>\n",
       "      <th></th>\n",
       "      <th></th>\n",
       "      <th></th>\n",
       "      <th></th>\n",
       "    </tr>\n",
       "  </thead>\n",
       "  <tbody>\n",
       "    <tr>\n",
       "      <th>2021-08-25 08:24:35.600</th>\n",
       "      <td>08/25/2021</td>\n",
       "      <td>08:24:35.600</td>\n",
       "      <td>NaN</td>\n",
       "      <td>29.4365</td>\n",
       "      <td>0.2873</td>\n",
       "      <td>1509.65</td>\n",
       "      <td>2021-08-25 08:24:35.600</td>\n",
       "    </tr>\n",
       "    <tr>\n",
       "      <th>2021-08-25 08:24:45.596</th>\n",
       "      <td>08/25/2021</td>\n",
       "      <td>08:24:45.596</td>\n",
       "      <td>NaN</td>\n",
       "      <td>29.4352</td>\n",
       "      <td>0.2874</td>\n",
       "      <td>1509.65</td>\n",
       "      <td>2021-08-25 08:24:45.596</td>\n",
       "    </tr>\n",
       "    <tr>\n",
       "      <th>2021-08-25 08:24:55.599</th>\n",
       "      <td>08/25/2021</td>\n",
       "      <td>08:24:55.599</td>\n",
       "      <td>NaN</td>\n",
       "      <td>29.4351</td>\n",
       "      <td>0.2874</td>\n",
       "      <td>1509.65</td>\n",
       "      <td>2021-08-25 08:24:55.599</td>\n",
       "    </tr>\n",
       "    <tr>\n",
       "      <th>2021-08-25 08:25:05.594</th>\n",
       "      <td>08/25/2021</td>\n",
       "      <td>08:25:05.594</td>\n",
       "      <td>NaN</td>\n",
       "      <td>29.4339</td>\n",
       "      <td>0.2874</td>\n",
       "      <td>1509.64</td>\n",
       "      <td>2021-08-25 08:25:05.594</td>\n",
       "    </tr>\n",
       "    <tr>\n",
       "      <th>2021-08-25 08:25:15.597</th>\n",
       "      <td>08/25/2021</td>\n",
       "      <td>08:25:15.597</td>\n",
       "      <td>NaN</td>\n",
       "      <td>29.4330</td>\n",
       "      <td>0.2874</td>\n",
       "      <td>1509.64</td>\n",
       "      <td>2021-08-25 08:25:15.597</td>\n",
       "    </tr>\n",
       "    <tr>\n",
       "      <th>...</th>\n",
       "      <td>...</td>\n",
       "      <td>...</td>\n",
       "      <td>...</td>\n",
       "      <td>...</td>\n",
       "      <td>...</td>\n",
       "      <td>...</td>\n",
       "      <td>...</td>\n",
       "    </tr>\n",
       "    <tr>\n",
       "      <th>2021-08-30 07:05:09.026</th>\n",
       "      <td>08/30/2021</td>\n",
       "      <td>07:05:09.026</td>\n",
       "      <td>NaN</td>\n",
       "      <td>29.2768</td>\n",
       "      <td>35.7172</td>\n",
       "      <td>1545.11</td>\n",
       "      <td>2021-08-30 07:05:09.026</td>\n",
       "    </tr>\n",
       "    <tr>\n",
       "      <th>2021-08-30 07:05:19.032</th>\n",
       "      <td>08/30/2021</td>\n",
       "      <td>07:05:19.032</td>\n",
       "      <td>NaN</td>\n",
       "      <td>29.2765</td>\n",
       "      <td>35.7170</td>\n",
       "      <td>1545.11</td>\n",
       "      <td>2021-08-30 07:05:19.032</td>\n",
       "    </tr>\n",
       "    <tr>\n",
       "      <th>2021-08-30 07:05:29.039</th>\n",
       "      <td>08/30/2021</td>\n",
       "      <td>07:05:29.039</td>\n",
       "      <td>NaN</td>\n",
       "      <td>29.2757</td>\n",
       "      <td>35.7174</td>\n",
       "      <td>1545.11</td>\n",
       "      <td>2021-08-30 07:05:29.039</td>\n",
       "    </tr>\n",
       "    <tr>\n",
       "      <th>2021-08-30 07:05:39.047</th>\n",
       "      <td>08/30/2021</td>\n",
       "      <td>07:05:39.047</td>\n",
       "      <td>NaN</td>\n",
       "      <td>29.2755</td>\n",
       "      <td>35.7173</td>\n",
       "      <td>1545.11</td>\n",
       "      <td>2021-08-30 07:05:39.047</td>\n",
       "    </tr>\n",
       "    <tr>\n",
       "      <th>2021-08-30 07:05:49.046</th>\n",
       "      <td>08/30/2021</td>\n",
       "      <td>07:05:49.046</td>\n",
       "      <td>NaN</td>\n",
       "      <td>29.2754</td>\n",
       "      <td>35.7174</td>\n",
       "      <td>1545.11</td>\n",
       "      <td>2021-08-30 07:05:49.046</td>\n",
       "    </tr>\n",
       "  </tbody>\n",
       "</table>\n",
       "<p>42728 rows × 7 columns</p>\n",
       "</div>"
      ],
      "text/plain": [
       "                               date          time  delete        T        S  \\\n",
       "datetime                                                                      \n",
       "2021-08-25 08:24:35.600  08/25/2021  08:24:35.600     NaN  29.4365   0.2873   \n",
       "2021-08-25 08:24:45.596  08/25/2021  08:24:45.596     NaN  29.4352   0.2874   \n",
       "2021-08-25 08:24:55.599  08/25/2021  08:24:55.599     NaN  29.4351   0.2874   \n",
       "2021-08-25 08:25:05.594  08/25/2021  08:25:05.594     NaN  29.4339   0.2874   \n",
       "2021-08-25 08:25:15.597  08/25/2021  08:25:15.597     NaN  29.4330   0.2874   \n",
       "...                             ...           ...     ...      ...      ...   \n",
       "2021-08-30 07:05:09.026  08/30/2021  07:05:09.026     NaN  29.2768  35.7172   \n",
       "2021-08-30 07:05:19.032  08/30/2021  07:05:19.032     NaN  29.2765  35.7170   \n",
       "2021-08-30 07:05:29.039  08/30/2021  07:05:29.039     NaN  29.2757  35.7174   \n",
       "2021-08-30 07:05:39.047  08/30/2021  07:05:39.047     NaN  29.2755  35.7173   \n",
       "2021-08-30 07:05:49.046  08/30/2021  07:05:49.046     NaN  29.2754  35.7174   \n",
       "\n",
       "                         unknown                datetime  \n",
       "datetime                                                  \n",
       "2021-08-25 08:24:35.600  1509.65 2021-08-25 08:24:35.600  \n",
       "2021-08-25 08:24:45.596  1509.65 2021-08-25 08:24:45.596  \n",
       "2021-08-25 08:24:55.599  1509.65 2021-08-25 08:24:55.599  \n",
       "2021-08-25 08:25:05.594  1509.64 2021-08-25 08:25:05.594  \n",
       "2021-08-25 08:25:15.597  1509.64 2021-08-25 08:25:15.597  \n",
       "...                          ...                     ...  \n",
       "2021-08-30 07:05:09.026  1545.11 2021-08-30 07:05:09.026  \n",
       "2021-08-30 07:05:19.032  1545.11 2021-08-30 07:05:19.032  \n",
       "2021-08-30 07:05:29.039  1545.11 2021-08-30 07:05:29.039  \n",
       "2021-08-30 07:05:39.047  1545.11 2021-08-30 07:05:39.047  \n",
       "2021-08-30 07:05:49.046  1545.11 2021-08-30 07:05:49.046  \n",
       "\n",
       "[42728 rows x 7 columns]"
      ]
     },
     "execution_count": 5,
     "metadata": {},
     "output_type": "execute_result"
    }
   ],
   "source": [
    "tsg_original"
   ]
  },
  {
   "cell_type": "code",
   "execution_count": 6,
   "id": "b7c0639f-6cba-4201-b1f5-1d592e436574",
   "metadata": {},
   "outputs": [],
   "source": [
    "gps_original['datetime'] = pd.to_datetime(gps_original['date'] + ' ' + gps_original['time'])"
   ]
  },
  {
   "cell_type": "code",
   "execution_count": 7,
   "id": "9cc615cf-60e6-4e23-a1e8-e932a79942c5",
   "metadata": {},
   "outputs": [],
   "source": [
    "gps_original = gps_original.set_index('datetime')"
   ]
  },
  {
   "cell_type": "code",
   "execution_count": 8,
   "id": "78464483-4909-4ffc-bba1-4c7b20e584d2",
   "metadata": {},
   "outputs": [],
   "source": [
    "indices = []\n",
    "for i in range(len(tsg_original)):\n",
    "    indices.append(gps_original.index.get_loc(tsg_original.iloc[i].datetime, method='nearest'))"
   ]
  },
  {
   "cell_type": "code",
   "execution_count": 9,
   "id": "7d3759b4-454a-454a-a707-f3deb45ebb76",
   "metadata": {},
   "outputs": [],
   "source": [
    "gps_subset = gps_original.iloc[indices]"
   ]
  },
  {
   "cell_type": "code",
   "execution_count": 10,
   "id": "356d29aa-4dfa-4f22-b1b9-8ac0788c46d0",
   "metadata": {},
   "outputs": [
    {
     "name": "stderr",
     "output_type": "stream",
     "text": [
      "<ipython-input-10-9342abf7a88e>:9: SettingWithCopyWarning: \n",
      "A value is trying to be set on a copy of a slice from a DataFrame.\n",
      "Try using .loc[row_indexer,col_indexer] = value instead\n",
      "\n",
      "See the caveats in the documentation: https://pandas.pydata.org/pandas-docs/stable/user_guide/indexing.html#returning-a-view-versus-a-copy\n",
      "  gps_subset['lon'] = dms2dd(pd.to_numeric(gps_subset['londms'].astype(str).str[:2]).astype(float), pd.to_numeric(gps_subset['londms'].astype(str).str[2:]),np.array(0), 'W')\n",
      "<ipython-input-10-9342abf7a88e>:10: SettingWithCopyWarning: \n",
      "A value is trying to be set on a copy of a slice from a DataFrame.\n",
      "Try using .loc[row_indexer,col_indexer] = value instead\n",
      "\n",
      "See the caveats in the documentation: https://pandas.pydata.org/pandas-docs/stable/user_guide/indexing.html#returning-a-view-versus-a-copy\n",
      "  gps_subset['lat'] = dms2dd(pd.to_numeric(gps_subset['latdms'].astype(str).str[:2]).astype(float), pd.to_numeric(gps_subset['latdms'].astype(str).str[2:]),np.array(0), 'E')\n"
     ]
    }
   ],
   "source": [
    "import numpy as np\n",
    "\n",
    "def dms2dd(degrees, minutes, seconds, direction):\n",
    "    dd = degrees + minutes/60 + seconds/(60*60);\n",
    "    if direction == 'W' or direction == 'S':\n",
    "        dd *= -1\n",
    "    return dd;\n",
    "\n",
    "gps_subset['lon'] = dms2dd(pd.to_numeric(gps_subset['londms'].astype(str).str[:2]).astype(float), pd.to_numeric(gps_subset['londms'].astype(str).str[2:]),np.array(0), 'W')\n",
    "gps_subset['lat'] = dms2dd(pd.to_numeric(gps_subset['latdms'].astype(str).str[:2]).astype(float), pd.to_numeric(gps_subset['latdms'].astype(str).str[2:]),np.array(0), 'E')"
   ]
  },
  {
   "cell_type": "code",
   "execution_count": 11,
   "id": "e7c4cae6-5cb4-4934-ae45-4c9faff1909c",
   "metadata": {},
   "outputs": [
    {
     "data": {
      "text/html": [
       "<div>\n",
       "<style scoped>\n",
       "    .dataframe tbody tr th:only-of-type {\n",
       "        vertical-align: middle;\n",
       "    }\n",
       "\n",
       "    .dataframe tbody tr th {\n",
       "        vertical-align: top;\n",
       "    }\n",
       "\n",
       "    .dataframe thead th {\n",
       "        text-align: right;\n",
       "    }\n",
       "</style>\n",
       "<table border=\"1\" class=\"dataframe\">\n",
       "  <thead>\n",
       "    <tr style=\"text-align: right;\">\n",
       "      <th></th>\n",
       "      <th>date</th>\n",
       "      <th>time</th>\n",
       "      <th>gps</th>\n",
       "      <th>unknown</th>\n",
       "      <th>latdms</th>\n",
       "      <th>lat_sign</th>\n",
       "      <th>londms</th>\n",
       "      <th>lon_sign</th>\n",
       "      <th>1</th>\n",
       "      <th>2</th>\n",
       "      <th>3</th>\n",
       "      <th>4</th>\n",
       "      <th>5</th>\n",
       "      <th>6</th>\n",
       "      <th>7</th>\n",
       "      <th>lon</th>\n",
       "      <th>lat</th>\n",
       "    </tr>\n",
       "    <tr>\n",
       "      <th>datetime</th>\n",
       "      <th></th>\n",
       "      <th></th>\n",
       "      <th></th>\n",
       "      <th></th>\n",
       "      <th></th>\n",
       "      <th></th>\n",
       "      <th></th>\n",
       "      <th></th>\n",
       "      <th></th>\n",
       "      <th></th>\n",
       "      <th></th>\n",
       "      <th></th>\n",
       "      <th></th>\n",
       "      <th></th>\n",
       "      <th></th>\n",
       "      <th></th>\n",
       "      <th></th>\n",
       "    </tr>\n",
       "  </thead>\n",
       "  <tbody>\n",
       "    <tr>\n",
       "      <th>2021-08-25 08:24:35.646</th>\n",
       "      <td>08/25/2021</td>\n",
       "      <td>08:24:35.646</td>\n",
       "      <td>$GPGGA</td>\n",
       "      <td>82746.72</td>\n",
       "      <td>3443.0547</td>\n",
       "      <td>N</td>\n",
       "      <td>7640.2342</td>\n",
       "      <td>W</td>\n",
       "      <td>2</td>\n",
       "      <td>28</td>\n",
       "      <td>0.5</td>\n",
       "      <td>-28.4</td>\n",
       "      <td>M</td>\n",
       "      <td>-36.8</td>\n",
       "      <td>M*4F</td>\n",
       "      <td>-76.670570</td>\n",
       "      <td>34.717578</td>\n",
       "    </tr>\n",
       "    <tr>\n",
       "      <th>2021-08-25 08:24:45.877</th>\n",
       "      <td>08/25/2021</td>\n",
       "      <td>08:24:45.877</td>\n",
       "      <td>$GPGGA</td>\n",
       "      <td>82757.00</td>\n",
       "      <td>3443.0547</td>\n",
       "      <td>N</td>\n",
       "      <td>7640.2340</td>\n",
       "      <td>W</td>\n",
       "      <td>2</td>\n",
       "      <td>29</td>\n",
       "      <td>0.5</td>\n",
       "      <td>-28.5</td>\n",
       "      <td>M</td>\n",
       "      <td>-36.8</td>\n",
       "      <td>M*66</td>\n",
       "      <td>-76.670567</td>\n",
       "      <td>34.717578</td>\n",
       "    </tr>\n",
       "    <tr>\n",
       "      <th>2021-08-25 08:24:55.748</th>\n",
       "      <td>08/25/2021</td>\n",
       "      <td>08:24:55.748</td>\n",
       "      <td>$GPGGA</td>\n",
       "      <td>82806.70</td>\n",
       "      <td>3443.0549</td>\n",
       "      <td>N</td>\n",
       "      <td>7640.2338</td>\n",
       "      <td>W</td>\n",
       "      <td>2</td>\n",
       "      <td>28</td>\n",
       "      <td>0.5</td>\n",
       "      <td>-28.6</td>\n",
       "      <td>M</td>\n",
       "      <td>-36.8</td>\n",
       "      <td>M*77</td>\n",
       "      <td>-76.670563</td>\n",
       "      <td>34.717582</td>\n",
       "    </tr>\n",
       "    <tr>\n",
       "      <th>2021-08-25 08:25:06.135</th>\n",
       "      <td>08/25/2021</td>\n",
       "      <td>08:25:06.135</td>\n",
       "      <td>$GPGGA</td>\n",
       "      <td>82816.69</td>\n",
       "      <td>3443.0548</td>\n",
       "      <td>N</td>\n",
       "      <td>7640.2341</td>\n",
       "      <td>W</td>\n",
       "      <td>2</td>\n",
       "      <td>29</td>\n",
       "      <td>0.5</td>\n",
       "      <td>-28.4</td>\n",
       "      <td>M</td>\n",
       "      <td>-36.8</td>\n",
       "      <td>M*42</td>\n",
       "      <td>-76.670568</td>\n",
       "      <td>34.717580</td>\n",
       "    </tr>\n",
       "    <tr>\n",
       "      <th>2021-08-25 08:25:15.785</th>\n",
       "      <td>08/25/2021</td>\n",
       "      <td>08:25:15.785</td>\n",
       "      <td>$GPGGA</td>\n",
       "      <td>82826.69</td>\n",
       "      <td>3443.0547</td>\n",
       "      <td>N</td>\n",
       "      <td>7640.2344</td>\n",
       "      <td>W</td>\n",
       "      <td>2</td>\n",
       "      <td>29</td>\n",
       "      <td>0.5</td>\n",
       "      <td>-28.4</td>\n",
       "      <td>M</td>\n",
       "      <td>-36.8</td>\n",
       "      <td>M*4B</td>\n",
       "      <td>-76.670573</td>\n",
       "      <td>34.717578</td>\n",
       "    </tr>\n",
       "  </tbody>\n",
       "</table>\n",
       "</div>"
      ],
      "text/plain": [
       "                               date          time     gps   unknown  \\\n",
       "datetime                                                              \n",
       "2021-08-25 08:24:35.646  08/25/2021  08:24:35.646  $GPGGA  82746.72   \n",
       "2021-08-25 08:24:45.877  08/25/2021  08:24:45.877  $GPGGA  82757.00   \n",
       "2021-08-25 08:24:55.748  08/25/2021  08:24:55.748  $GPGGA  82806.70   \n",
       "2021-08-25 08:25:06.135  08/25/2021  08:25:06.135  $GPGGA  82816.69   \n",
       "2021-08-25 08:25:15.785  08/25/2021  08:25:15.785  $GPGGA  82826.69   \n",
       "\n",
       "                            latdms lat_sign     londms lon_sign  1   2    3  \\\n",
       "datetime                                                                      \n",
       "2021-08-25 08:24:35.646  3443.0547        N  7640.2342        W  2  28  0.5   \n",
       "2021-08-25 08:24:45.877  3443.0547        N  7640.2340        W  2  29  0.5   \n",
       "2021-08-25 08:24:55.748  3443.0549        N  7640.2338        W  2  28  0.5   \n",
       "2021-08-25 08:25:06.135  3443.0548        N  7640.2341        W  2  29  0.5   \n",
       "2021-08-25 08:25:15.785  3443.0547        N  7640.2344        W  2  29  0.5   \n",
       "\n",
       "                            4  5     6     7        lon        lat  \n",
       "datetime                                                            \n",
       "2021-08-25 08:24:35.646 -28.4  M -36.8  M*4F -76.670570  34.717578  \n",
       "2021-08-25 08:24:45.877 -28.5  M -36.8  M*66 -76.670567  34.717578  \n",
       "2021-08-25 08:24:55.748 -28.6  M -36.8  M*77 -76.670563  34.717582  \n",
       "2021-08-25 08:25:06.135 -28.4  M -36.8  M*42 -76.670568  34.717580  \n",
       "2021-08-25 08:25:15.785 -28.4  M -36.8  M*4B -76.670573  34.717578  "
      ]
     },
     "execution_count": 11,
     "metadata": {},
     "output_type": "execute_result"
    }
   ],
   "source": [
    "gps_subset.head()"
   ]
  },
  {
   "cell_type": "code",
   "execution_count": 12,
   "id": "803f6f37-418a-415c-94e5-caecb7318f81",
   "metadata": {},
   "outputs": [],
   "source": [
    "tsg_original['latdms'] = gps_subset['latdms'].values\n",
    "tsg_original['londms'] = gps_subset['londms'].values"
   ]
  },
  {
   "cell_type": "code",
   "execution_count": null,
   "id": "99d52c84-ea4a-4ed9-9515-2e542fbbcd33",
   "metadata": {},
   "outputs": [],
   "source": [
    "lat=43 47.66737 N, lon=069 57.81890 W, hms=122029, dmy=040821, t1=18.254000, c1=4.118110, s=30.812400, sigma=22.007600"
   ]
  },
  {
   "cell_type": "code",
   "execution_count": 13,
   "id": "ab159ab8-c549-4434-a1e8-f049c95fc06a",
   "metadata": {},
   "outputs": [
    {
     "data": {
      "text/plain": [
       "'082445'"
      ]
     },
     "execution_count": 13,
     "metadata": {},
     "output_type": "execute_result"
    }
   ],
   "source": [
    "tsg_original.iloc[1].datetime.strftime('%H%M%S') # %d/%m/%y"
   ]
  },
  {
   "cell_type": "code",
   "execution_count": 15,
   "id": "2e8780c1-5295-4369-ab9a-884ecc62f235",
   "metadata": {},
   "outputs": [
    {
     "data": {
      "text/plain": [
       "'250821'"
      ]
     },
     "execution_count": 15,
     "metadata": {},
     "output_type": "execute_result"
    }
   ],
   "source": [
    "tsg_original.iloc[1].datetime.strftime('%d%m%y')"
   ]
  },
  {
   "cell_type": "code",
   "execution_count": 16,
   "id": "c4240778-a2ce-4547-a2f1-50e33838812c",
   "metadata": {},
   "outputs": [
    {
     "data": {
      "text/plain": [
       "29.4352"
      ]
     },
     "execution_count": 16,
     "metadata": {},
     "output_type": "execute_result"
    }
   ],
   "source": [
    "tsg_original.iloc[1]['T']"
   ]
  },
  {
   "cell_type": "code",
   "execution_count": 17,
   "id": "21e08abe-c090-473f-86ea-79ef3bf6b1bc",
   "metadata": {},
   "outputs": [],
   "source": [
    "f = open('tsg_20210825.txt', 'w')\n",
    "i=0\n",
    "for index, row in tsg_original.iterrows():\n",
    "    if i > len(tsg_original):\n",
    "        break\n",
    "    else:\n",
    "        f.write('lat='+str(row['latdms'])[:2]+' '+str(row['latdms'])[2:]+' N, ')\n",
    "        f.write('lon=0'+str(row['latdms'])[:2]+' '+str(row['latdms'])[2:]+' W, ')\n",
    "        f.write('hms='+row.datetime.strftime('%H%M%S')+', ')\n",
    "        f.write('dmy='+row.datetime.strftime('%d%m%y')+', ')\n",
    "        f.write('t1='+str(row['T'])+', ')\n",
    "        f.write('c1=0, ')\n",
    "        f.write('s='+str(row['S'])+', ')\n",
    "        f.write('sigma=0\\n')\n",
    "        i+=1\n",
    "f.close()"
   ]
  },
  {
   "cell_type": "markdown",
   "id": "00bf3e6e-00c4-4259-b5e6-2f98d04326c3",
   "metadata": {},
   "source": [
    "### Converting flow control to proper format"
   ]
  },
  {
   "cell_type": "markdown",
   "id": "dc20cd15-309d-4576-b686-c98796807e94",
   "metadata": {},
   "source": [
    "proper format is \n",
    "2021-08-04 19:00:01 UTC\t1\t0110\t0.00\t43.48\t0.000\t2.469\n",
    "        \n",
    "my format is\n",
    "09/04/2021,22:23:38.407,$FLOW,0,mL/s"
   ]
  },
  {
   "cell_type": "code",
   "execution_count": 18,
   "id": "af175462-37b5-4793-b263-92d0bf2694bf",
   "metadata": {},
   "outputs": [],
   "source": [
    "flow_df = pd.read_csv(data_src+'SW21009R_NRL/TSG/FlowMeter-_20210825-082425.Raw', header=None, names=['date', 'time', 'flowname', 'flow', 'units'])"
   ]
  },
  {
   "cell_type": "code",
   "execution_count": 19,
   "id": "36c5170f-25ad-40f1-a62b-61a2f09147c1",
   "metadata": {},
   "outputs": [
    {
     "data": {
      "text/html": [
       "<div>\n",
       "<style scoped>\n",
       "    .dataframe tbody tr th:only-of-type {\n",
       "        vertical-align: middle;\n",
       "    }\n",
       "\n",
       "    .dataframe tbody tr th {\n",
       "        vertical-align: top;\n",
       "    }\n",
       "\n",
       "    .dataframe thead th {\n",
       "        text-align: right;\n",
       "    }\n",
       "</style>\n",
       "<table border=\"1\" class=\"dataframe\">\n",
       "  <thead>\n",
       "    <tr style=\"text-align: right;\">\n",
       "      <th></th>\n",
       "      <th>date</th>\n",
       "      <th>time</th>\n",
       "      <th>flowname</th>\n",
       "      <th>flow</th>\n",
       "      <th>units</th>\n",
       "    </tr>\n",
       "  </thead>\n",
       "  <tbody>\n",
       "    <tr>\n",
       "      <th>0</th>\n",
       "      <td>08/25/2021</td>\n",
       "      <td>08:24:26.861</td>\n",
       "      <td>$FLOW</td>\n",
       "      <td>0.0</td>\n",
       "      <td>mL/s</td>\n",
       "    </tr>\n",
       "    <tr>\n",
       "      <th>1</th>\n",
       "      <td>08/25/2021</td>\n",
       "      <td>08:24:27.869</td>\n",
       "      <td>$FLOW</td>\n",
       "      <td>0.0</td>\n",
       "      <td>mL/s</td>\n",
       "    </tr>\n",
       "    <tr>\n",
       "      <th>2</th>\n",
       "      <td>08/25/2021</td>\n",
       "      <td>08:24:28.869</td>\n",
       "      <td>$FLOW</td>\n",
       "      <td>0.0</td>\n",
       "      <td>mL/s</td>\n",
       "    </tr>\n",
       "    <tr>\n",
       "      <th>3</th>\n",
       "      <td>08/25/2021</td>\n",
       "      <td>08:24:29.881</td>\n",
       "      <td>$FLOW</td>\n",
       "      <td>0.0</td>\n",
       "      <td>mL/s</td>\n",
       "    </tr>\n",
       "    <tr>\n",
       "      <th>4</th>\n",
       "      <td>08/25/2021</td>\n",
       "      <td>08:24:30.881</td>\n",
       "      <td>$FLOW</td>\n",
       "      <td>0.0</td>\n",
       "      <td>mL/s</td>\n",
       "    </tr>\n",
       "    <tr>\n",
       "      <th>...</th>\n",
       "      <td>...</td>\n",
       "      <td>...</td>\n",
       "      <td>...</td>\n",
       "      <td>...</td>\n",
       "      <td>...</td>\n",
       "    </tr>\n",
       "    <tr>\n",
       "      <th>423702</th>\n",
       "      <td>08/30/2021</td>\n",
       "      <td>07:05:49.421</td>\n",
       "      <td>$FLOW</td>\n",
       "      <td>0.0</td>\n",
       "      <td>mL/s</td>\n",
       "    </tr>\n",
       "    <tr>\n",
       "      <th>423703</th>\n",
       "      <td>08/30/2021</td>\n",
       "      <td>07:05:50.430</td>\n",
       "      <td>$FLOW</td>\n",
       "      <td>0.0</td>\n",
       "      <td>mL/s</td>\n",
       "    </tr>\n",
       "    <tr>\n",
       "      <th>423704</th>\n",
       "      <td>08/30/2021</td>\n",
       "      <td>07:05:51.439</td>\n",
       "      <td>$FLOW</td>\n",
       "      <td>0.0</td>\n",
       "      <td>mL/s</td>\n",
       "    </tr>\n",
       "    <tr>\n",
       "      <th>423705</th>\n",
       "      <td>08/30/2021</td>\n",
       "      <td>07:05:52.448</td>\n",
       "      <td>$FLOW</td>\n",
       "      <td>0.0</td>\n",
       "      <td>mL/s</td>\n",
       "    </tr>\n",
       "    <tr>\n",
       "      <th>423706</th>\n",
       "      <td>08/30/2021</td>\n",
       "      <td>07:05:53.448</td>\n",
       "      <td>$FLOW</td>\n",
       "      <td>0.0</td>\n",
       "      <td>mL/s</td>\n",
       "    </tr>\n",
       "  </tbody>\n",
       "</table>\n",
       "<p>423707 rows × 5 columns</p>\n",
       "</div>"
      ],
      "text/plain": [
       "              date          time flowname  flow units\n",
       "0       08/25/2021  08:24:26.861    $FLOW   0.0  mL/s\n",
       "1       08/25/2021  08:24:27.869    $FLOW   0.0  mL/s\n",
       "2       08/25/2021  08:24:28.869    $FLOW   0.0  mL/s\n",
       "3       08/25/2021  08:24:29.881    $FLOW   0.0  mL/s\n",
       "4       08/25/2021  08:24:30.881    $FLOW   0.0  mL/s\n",
       "...            ...           ...      ...   ...   ...\n",
       "423702  08/30/2021  07:05:49.421    $FLOW   0.0  mL/s\n",
       "423703  08/30/2021  07:05:50.430    $FLOW   0.0  mL/s\n",
       "423704  08/30/2021  07:05:51.439    $FLOW   0.0  mL/s\n",
       "423705  08/30/2021  07:05:52.448    $FLOW   0.0  mL/s\n",
       "423706  08/30/2021  07:05:53.448    $FLOW   0.0  mL/s\n",
       "\n",
       "[423707 rows x 5 columns]"
      ]
     },
     "execution_count": 19,
     "metadata": {},
     "output_type": "execute_result"
    }
   ],
   "source": [
    "flow_df"
   ]
  },
  {
   "cell_type": "code",
   "execution_count": 20,
   "id": "8697c1d7-9afc-4c14-895a-2e51b00890a6",
   "metadata": {},
   "outputs": [],
   "source": [
    "flow_df['datetime'] = pd.to_datetime(flow_df.date + ' ' + flow_df.time)"
   ]
  },
  {
   "cell_type": "code",
   "execution_count": 21,
   "id": "ca4c18ea-ee15-4e4b-9f94-1fc338183764",
   "metadata": {},
   "outputs": [
    {
     "data": {
      "text/html": [
       "<div>\n",
       "<style scoped>\n",
       "    .dataframe tbody tr th:only-of-type {\n",
       "        vertical-align: middle;\n",
       "    }\n",
       "\n",
       "    .dataframe tbody tr th {\n",
       "        vertical-align: top;\n",
       "    }\n",
       "\n",
       "    .dataframe thead th {\n",
       "        text-align: right;\n",
       "    }\n",
       "</style>\n",
       "<table border=\"1\" class=\"dataframe\">\n",
       "  <thead>\n",
       "    <tr style=\"text-align: right;\">\n",
       "      <th></th>\n",
       "      <th>date</th>\n",
       "      <th>time</th>\n",
       "      <th>flowname</th>\n",
       "      <th>flow</th>\n",
       "      <th>units</th>\n",
       "      <th>datetime</th>\n",
       "    </tr>\n",
       "  </thead>\n",
       "  <tbody>\n",
       "    <tr>\n",
       "      <th>0</th>\n",
       "      <td>08/25/2021</td>\n",
       "      <td>08:24:26.861</td>\n",
       "      <td>$FLOW</td>\n",
       "      <td>0.0</td>\n",
       "      <td>mL/s</td>\n",
       "      <td>2021-08-25 08:24:26.861</td>\n",
       "    </tr>\n",
       "    <tr>\n",
       "      <th>1</th>\n",
       "      <td>08/25/2021</td>\n",
       "      <td>08:24:27.869</td>\n",
       "      <td>$FLOW</td>\n",
       "      <td>0.0</td>\n",
       "      <td>mL/s</td>\n",
       "      <td>2021-08-25 08:24:27.869</td>\n",
       "    </tr>\n",
       "    <tr>\n",
       "      <th>2</th>\n",
       "      <td>08/25/2021</td>\n",
       "      <td>08:24:28.869</td>\n",
       "      <td>$FLOW</td>\n",
       "      <td>0.0</td>\n",
       "      <td>mL/s</td>\n",
       "      <td>2021-08-25 08:24:28.869</td>\n",
       "    </tr>\n",
       "    <tr>\n",
       "      <th>3</th>\n",
       "      <td>08/25/2021</td>\n",
       "      <td>08:24:29.881</td>\n",
       "      <td>$FLOW</td>\n",
       "      <td>0.0</td>\n",
       "      <td>mL/s</td>\n",
       "      <td>2021-08-25 08:24:29.881</td>\n",
       "    </tr>\n",
       "    <tr>\n",
       "      <th>4</th>\n",
       "      <td>08/25/2021</td>\n",
       "      <td>08:24:30.881</td>\n",
       "      <td>$FLOW</td>\n",
       "      <td>0.0</td>\n",
       "      <td>mL/s</td>\n",
       "      <td>2021-08-25 08:24:30.881</td>\n",
       "    </tr>\n",
       "  </tbody>\n",
       "</table>\n",
       "</div>"
      ],
      "text/plain": [
       "         date          time flowname  flow units                datetime\n",
       "0  08/25/2021  08:24:26.861    $FLOW   0.0  mL/s 2021-08-25 08:24:26.861\n",
       "1  08/25/2021  08:24:27.869    $FLOW   0.0  mL/s 2021-08-25 08:24:27.869\n",
       "2  08/25/2021  08:24:28.869    $FLOW   0.0  mL/s 2021-08-25 08:24:28.869\n",
       "3  08/25/2021  08:24:29.881    $FLOW   0.0  mL/s 2021-08-25 08:24:29.881\n",
       "4  08/25/2021  08:24:30.881    $FLOW   0.0  mL/s 2021-08-25 08:24:30.881"
      ]
     },
     "execution_count": 21,
     "metadata": {},
     "output_type": "execute_result"
    }
   ],
   "source": [
    "flow_df.head()"
   ]
  },
  {
   "cell_type": "code",
   "execution_count": null,
   "id": "da960364-6c72-4c01-911f-7caefc78e265",
   "metadata": {},
   "outputs": [],
   "source": [
    "2021-08-04 19:00:01 UTC\t1\t0110\t0.00\t43.48\t0.000\t2.469\n",
    "2021-09-04 22:23:38 UTC\t1\t0110\t0.00\t50.0\t0.00\t0.0"
   ]
  },
  {
   "cell_type": "code",
   "execution_count": 22,
   "id": "b76ef0e1-7b6d-436f-9a5b-427004d5903c",
   "metadata": {},
   "outputs": [
    {
     "data": {
      "text/plain": [
       "'08:24:36'"
      ]
     },
     "execution_count": 22,
     "metadata": {},
     "output_type": "execute_result"
    }
   ],
   "source": [
    "flow_df.iloc[10].datetime.strftime('%H:%M:%S')"
   ]
  },
  {
   "cell_type": "code",
   "execution_count": 23,
   "id": "728e1b70-58ac-4360-b867-0c35458904e1",
   "metadata": {},
   "outputs": [
    {
     "data": {
      "text/plain": [
       "'2021-08-25'"
      ]
     },
     "execution_count": 23,
     "metadata": {},
     "output_type": "execute_result"
    }
   ],
   "source": [
    "flow_df.iloc[10].datetime.strftime('%Y-%m-%d')"
   ]
  },
  {
   "cell_type": "code",
   "execution_count": 24,
   "id": "fafa6e6b-7e44-49f0-9caa-1b3230e2bdc7",
   "metadata": {},
   "outputs": [],
   "source": [
    "f = open('Flow_20210825.txt', 'w')\n",
    "i=0\n",
    "for index, row in flow_df.iterrows():\n",
    "    if i > len(flow_df):\n",
    "        break\n",
    "    else:\n",
    "        f.write(row.datetime.strftime('%Y-%m-%d')+' '+row.datetime.strftime('%H:%M:%S')+' ')\n",
    "        f.write('UTC\\t1\\t')\n",
    "        f.write('0110\\t0.00\\t')\n",
    "        f.write(str(row['flow']*60/1000)+'\\t')\n",
    "        f.write('0.00\\t')\n",
    "        f.write('0.00\\n')\n",
    "        \n",
    "        i+=1\n",
    "f.close()"
   ]
  },
  {
   "cell_type": "markdown",
   "id": "829c156b-4736-44ec-94ce-a9e06ba33806",
   "metadata": {},
   "source": [
    "We also need to format the CDOM into the proper inlinino format"
   ]
  },
  {
   "cell_type": "code",
   "execution_count": 25,
   "id": "1cd37feb-2b4a-4753-a94e-685543556ed7",
   "metadata": {},
   "outputs": [],
   "source": [
    "txt_file = open(data_src+'augcruise/cdom_flu_output_210829_1.txt', 'r')"
   ]
  },
  {
   "cell_type": "code",
   "execution_count": 26,
   "id": "18be7c84-8179-4147-ac6f-3cd18a2c2c40",
   "metadata": {},
   "outputs": [],
   "source": [
    "lines = txt_file.readlines()"
   ]
  },
  {
   "cell_type": "code",
   "execution_count": 31,
   "id": "dcc8ba6b-ee21-40da-aa2c-fafdc01469c3",
   "metadata": {},
   "outputs": [],
   "source": [
    "sensor_values = []\n",
    "utc_times = []\n",
    "for i in range(len(lines)):\n",
    "    line = lines[i]\n",
    "    if \"sensor\" in line:\n",
    "        try:\n",
    "            line = line.split('= ')[1]\n",
    "            line = line.replace('\\n', '')\n",
    "            if \"UTC\" in lines[i-1]:\n",
    "                sensor_values.append(int(line))\n",
    "                data_time = lines[i-1][5:-2]\n",
    "                utc_times.append(data_time)\n",
    "        except:\n",
    "            pass"
   ]
  },
  {
   "cell_type": "code",
   "execution_count": 32,
   "id": "033acd45-3d3e-4e20-8e87-654e07969904",
   "metadata": {},
   "outputs": [
    {
     "data": {
      "text/plain": [
       "0"
      ]
     },
     "execution_count": 32,
     "metadata": {},
     "output_type": "execute_result"
    }
   ],
   "source": [
    "len(sensor_values)-len(utc_times)"
   ]
  },
  {
   "cell_type": "code",
   "execution_count": 33,
   "id": "3b841154-da62-470a-a675-fa57b37a9456",
   "metadata": {},
   "outputs": [],
   "source": [
    "utc_times = pd.to_datetime(utc_times)"
   ]
  },
  {
   "cell_type": "code",
   "execution_count": 34,
   "id": "a88621a7-5ccf-467f-99cd-27978d09db99",
   "metadata": {},
   "outputs": [
    {
     "data": {
      "text/plain": [
       "DatetimeIndex(['2021-08-29 10:42:47.538120', '2021-08-29 10:42:48.043820',\n",
       "               '2021-08-29 10:42:48.546540', '2021-08-29 10:42:49.047680',\n",
       "               '2021-08-29 10:42:49.551880', '2021-08-29 10:42:50.055540',\n",
       "               '2021-08-29 10:42:50.555840', '2021-08-29 10:42:51.056040',\n",
       "               '2021-08-29 10:42:51.558030', '2021-08-29 10:42:52.059950',\n",
       "               ...\n",
       "               '2021-08-30 05:14:07.042540', '2021-08-30 05:14:07.545040',\n",
       "               '2021-08-30 05:14:08.047120', '2021-08-30 05:14:08.547450',\n",
       "               '2021-08-30 05:14:09.049240', '2021-08-30 05:14:09.552950',\n",
       "               '2021-08-30 05:14:10.057330', '2021-08-30 05:14:10.558430',\n",
       "               '2021-08-30 05:14:11.062740', '2021-08-30 05:14:11.568110'],\n",
       "              dtype='datetime64[ns]', length=128160, freq=None)"
      ]
     },
     "execution_count": 34,
     "metadata": {},
     "output_type": "execute_result"
    }
   ],
   "source": [
    "utc_times"
   ]
  },
  {
   "cell_type": "code",
   "execution_count": 35,
   "id": "ac33ab0f-0a52-4e60-8817-2026aced07cf",
   "metadata": {},
   "outputs": [],
   "source": [
    "cdom_df = pd.DataFrame(np.array(sensor_values)/1024.0*5, columns = ['cdom_volts'])"
   ]
  },
  {
   "cell_type": "code",
   "execution_count": 36,
   "id": "c1207b6d-53d4-46f6-8098-1c516529b818",
   "metadata": {},
   "outputs": [],
   "source": [
    "cdom_df['sample_times'] = utc_times"
   ]
  },
  {
   "cell_type": "code",
   "execution_count": 40,
   "id": "96e9d576-23b5-4630-b300-c24cc2de3be7",
   "metadata": {},
   "outputs": [
    {
     "data": {
      "image/png": "[encoded data removed]",
      "text/plain": [
       "<Figure size 432x288 with 1 Axes>"
      ]
     },
     "metadata": {
      "needs_background": "light"
     },
     "output_type": "display_data"
    }
   ],
   "source": [
    "plt.hist(cdom_df.cdom_volts)\n",
    "plt.show()"
   ]
  },
  {
   "cell_type": "code",
   "execution_count": 43,
   "id": "1553fb30-f582-4ed3-95ab-48de673f7a19",
   "metadata": {},
   "outputs": [
    {
     "data": {
      "text/plain": [
       "(0.0, 0.32)"
      ]
     },
     "execution_count": 43,
     "metadata": {},
     "output_type": "execute_result"
    },
    {
     "data": {
      "image/png": "[encoded data removed]",
      "text/plain": [
       "<Figure size 864x576 with 1 Axes>"
      ]
     },
     "metadata": {
      "needs_background": "light"
     },
     "output_type": "display_data"
    }
   ],
   "source": [
    "fig, ax = plt.subplots(figsize=(12,8))\n",
    "# cdom_df.rolling(window=120).median().plot(x='sample_times', y='cdom_volts', ax=ax)\n",
    "ax.plot(cdom_df.sample_times, cdom_df.rolling(window=10).mean())\n",
    "ax.set_ylim(0.0,0.32)"
   ]
  },
  {
   "cell_type": "code",
   "execution_count": null,
   "id": "2903251a-4ec6-40a2-b662-9feded9c3070",
   "metadata": {},
   "outputs": [],
   "source": [
    "format is \n",
    "time, C1\n",
    "yyyy/mm/dd HH:MM:SS.fff, V\n",
    "2021/09/06 01:00:01.149, 0.153"
   ]
  },
  {
   "cell_type": "code",
   "execution_count": 62,
   "id": "1c3552af-db4e-40ad-9d56-cb034c2d0036",
   "metadata": {},
   "outputs": [
    {
     "data": {
      "text/plain": [
       "'2021/08/29 10:51:27.332'"
      ]
     },
     "execution_count": 62,
     "metadata": {},
     "output_type": "execute_result"
    }
   ],
   "source": [
    "cdom_df.iloc[1000].sample_times.strftime('%Y/%m/%d %H:%M:%S.%f')[:-3]"
   ]
  },
  {
   "cell_type": "code",
   "execution_count": 63,
   "id": "df1f50b6-2412-4491-babe-73073988f2e5",
   "metadata": {},
   "outputs": [],
   "source": [
    "f = open(data_src+'WSCD859_20210829_000000.csv', 'w')\n",
    "i=0\n",
    "f.write('time, C1\\n')\n",
    "f.write('yyyy/mm/dd HH:MM:SS.fff, V\\n')\n",
    "for index, row in cdom_df.iterrows():\n",
    "    if i > len(cdom_df):\n",
    "        break\n",
    "    else:\n",
    "        f.write(row.sample_times.strftime('%Y/%m/%d %H:%M:%S.%f')[:-3]+', '+str(row['cdom_volts'])[:5]+'\\n')\n",
    "        i+=1\n",
    "f.close()"
   ]
  },
  {
   "cell_type": "markdown",
   "id": "32180026-92ed-4e13-92fb-4a6d88b375cd",
   "metadata": {},
   "source": [
    "### Now let's do it for the Sept Cruise"
   ]
  },
  {
   "cell_type": "code",
   "execution_count": null,
   "id": "04e9dd8e-e85d-475d-912b-bfa3f23004bb",
   "metadata": {},
   "outputs": [],
   "source": []
  },
  {
   "cell_type": "code",
   "execution_count": null,
   "id": "5b789f21-a83b-4d34-9491-aee150d37dce",
   "metadata": {},
   "outputs": [],
   "source": []
  },
  {
   "cell_type": "code",
   "execution_count": null,
   "id": "56a385e9-f9b9-4f8e-ad5d-b3399a9609a8",
   "metadata": {},
   "outputs": [],
   "source": []
  },
  {
   "cell_type": "code",
   "execution_count": null,
   "id": "665f4596-dfaa-4df1-ac79-6e352d41f10b",
   "metadata": {},
   "outputs": [],
   "source": [
    "TSG format is\n",
    "\n",
    "lat=43 47.66737 N, lon=069 57.81890 W, hms=122029, dmy=040821, t1=18.254000, c1=4.118110, s=30.812400, sigma=22.007600"
   ]
  },
  {
   "cell_type": "markdown",
   "id": "cf74e900-207b-4c4f-bd83-3a9ed18aeac2",
   "metadata": {},
   "source": [
    "My TSG data is formatted as :\n",
    "09/04/2021,22:57:51.709,        26.5469        36.0464      1539.56\n",
    "\n",
    "    \n",
    "My GPS data is:\n",
    "09/04/2021,22:23:40.089,$GPZDA,222709.67,04,09,2021,00,00*67\n"
   ]
  },
  {
   "cell_type": "markdown",
   "id": "cee53b53-48b0-428f-9921-83cdc30a9bb2",
   "metadata": {},
   "source": [
    "#### Convert to proper format"
   ]
  },
  {
   "cell_type": "code",
   "execution_count": 65,
   "id": "6d2b8ad8-47bb-462a-a3c0-762d44cf8df6",
   "metadata": {},
   "outputs": [
    {
     "name": "stderr",
     "output_type": "stream",
     "text": [
      "<ipython-input-65-12db4bb59c4b>:3: ParserWarning: Falling back to the 'python' engine because the 'c' engine does not support regex separators (separators > 1 char and different from '\\s+' are interpreted as regex); you can avoid this warning by specifying engine='python'.\n",
      "  tsg_original = pd.read_csv('data/SW21011R_RFP/TSG/TSG-_20210904-222337.Raw', sep='        |,|      ', header=None, names=['date', 'time', 'delete', 'T', 'S', 'unknown'])\n"
     ]
    }
   ],
   "source": [
    "import pandas as pd\n",
    "\n",
    "tsg_original = pd.read_csv(data_src+'SW21011R_RFP/TSG/TSG-_20210904-222337.Raw', sep='        |,|      ', header=None, names=['date', 'time', 'delete', 'T', 'S', 'unknown'])\n",
    "\n",
    "gps_original = pd.read_csv(data_src+'SW21011R_RFP/Navigation/SW-GGA_20210904-222337.Raw', header=None,\n",
    "                           names=['date', 'time', 'gps', 'unknown', 'latdms', 'lat_sign', 'londms', 'lon_sign', '1', '2', '3', '4', '5', '6', '7'])"
   ]
  },
  {
   "cell_type": "code",
   "execution_count": 66,
   "id": "6b639677-4bb8-4113-bca1-acb115d1006a",
   "metadata": {},
   "outputs": [],
   "source": [
    "tsg_original['datetime'] = pd.to_datetime(tsg_original['date'] + ' ' + tsg_original['time'])"
   ]
  },
  {
   "cell_type": "code",
   "execution_count": 67,
   "id": "2d1847fc-47ad-4771-b6a6-c33f6d71f9cf",
   "metadata": {},
   "outputs": [],
   "source": [
    "tsg_original = tsg_original.set_index('datetime')"
   ]
  },
  {
   "cell_type": "code",
   "execution_count": 68,
   "id": "f6e05721-e029-4c7e-9a3d-0df3e54c9ced",
   "metadata": {},
   "outputs": [],
   "source": [
    "tsg_original['datetime'] = pd.to_datetime(tsg_original['date'] + ' ' + tsg_original['time'])"
   ]
  },
  {
   "cell_type": "code",
   "execution_count": 69,
   "id": "95566b0f-d3f6-41c2-80ea-f1b2d254d6b6",
   "metadata": {},
   "outputs": [
    {
     "data": {
      "text/html": [
       "<div>\n",
       "<style scoped>\n",
       "    .dataframe tbody tr th:only-of-type {\n",
       "        vertical-align: middle;\n",
       "    }\n",
       "\n",
       "    .dataframe tbody tr th {\n",
       "        vertical-align: top;\n",
       "    }\n",
       "\n",
       "    .dataframe thead th {\n",
       "        text-align: right;\n",
       "    }\n",
       "</style>\n",
       "<table border=\"1\" class=\"dataframe\">\n",
       "  <thead>\n",
       "    <tr style=\"text-align: right;\">\n",
       "      <th></th>\n",
       "      <th>date</th>\n",
       "      <th>time</th>\n",
       "      <th>delete</th>\n",
       "      <th>T</th>\n",
       "      <th>S</th>\n",
       "      <th>unknown</th>\n",
       "      <th>datetime</th>\n",
       "    </tr>\n",
       "    <tr>\n",
       "      <th>datetime</th>\n",
       "      <th></th>\n",
       "      <th></th>\n",
       "      <th></th>\n",
       "      <th></th>\n",
       "      <th></th>\n",
       "      <th></th>\n",
       "      <th></th>\n",
       "    </tr>\n",
       "  </thead>\n",
       "  <tbody>\n",
       "    <tr>\n",
       "      <th>2021-09-04 22:57:51.709</th>\n",
       "      <td>09/04/2021</td>\n",
       "      <td>22:57:51.709</td>\n",
       "      <td>NaN</td>\n",
       "      <td>26.5469</td>\n",
       "      <td>36.0464</td>\n",
       "      <td>1539.56</td>\n",
       "      <td>2021-09-04 22:57:51.709</td>\n",
       "    </tr>\n",
       "    <tr>\n",
       "      <th>2021-09-04 22:58:01.635</th>\n",
       "      <td>09/04/2021</td>\n",
       "      <td>22:58:01.635</td>\n",
       "      <td>NaN</td>\n",
       "      <td>26.5226</td>\n",
       "      <td>36.0374</td>\n",
       "      <td>1539.49</td>\n",
       "      <td>2021-09-04 22:58:01.635</td>\n",
       "    </tr>\n",
       "    <tr>\n",
       "      <th>2021-09-04 22:58:11.623</th>\n",
       "      <td>09/04/2021</td>\n",
       "      <td>22:58:11.623</td>\n",
       "      <td>NaN</td>\n",
       "      <td>26.4849</td>\n",
       "      <td>36.0074</td>\n",
       "      <td>1539.38</td>\n",
       "      <td>2021-09-04 22:58:11.623</td>\n",
       "    </tr>\n",
       "    <tr>\n",
       "      <th>2021-09-04 22:58:21.627</th>\n",
       "      <td>09/04/2021</td>\n",
       "      <td>22:58:21.627</td>\n",
       "      <td>NaN</td>\n",
       "      <td>26.4642</td>\n",
       "      <td>35.9757</td>\n",
       "      <td>1539.30</td>\n",
       "      <td>2021-09-04 22:58:21.627</td>\n",
       "    </tr>\n",
       "    <tr>\n",
       "      <th>2021-09-04 22:58:31.627</th>\n",
       "      <td>09/04/2021</td>\n",
       "      <td>22:58:31.627</td>\n",
       "      <td>NaN</td>\n",
       "      <td>26.4588</td>\n",
       "      <td>35.9478</td>\n",
       "      <td>1539.25</td>\n",
       "      <td>2021-09-04 22:58:31.627</td>\n",
       "    </tr>\n",
       "    <tr>\n",
       "      <th>...</th>\n",
       "      <td>...</td>\n",
       "      <td>...</td>\n",
       "      <td>...</td>\n",
       "      <td>...</td>\n",
       "      <td>...</td>\n",
       "      <td>...</td>\n",
       "      <td>...</td>\n",
       "    </tr>\n",
       "    <tr>\n",
       "      <th>2021-09-09 12:00:14.732</th>\n",
       "      <td>09/09/2021</td>\n",
       "      <td>12:00:14.732</td>\n",
       "      <td>NaN</td>\n",
       "      <td>27.4096</td>\n",
       "      <td>35.8314</td>\n",
       "      <td>1541.24</td>\n",
       "      <td>2021-09-09 12:00:14.732</td>\n",
       "    </tr>\n",
       "    <tr>\n",
       "      <th>2021-09-09 12:00:24.733</th>\n",
       "      <td>09/09/2021</td>\n",
       "      <td>12:00:24.733</td>\n",
       "      <td>NaN</td>\n",
       "      <td>27.4104</td>\n",
       "      <td>35.8320</td>\n",
       "      <td>1541.24</td>\n",
       "      <td>2021-09-09 12:00:24.733</td>\n",
       "    </tr>\n",
       "    <tr>\n",
       "      <th>2021-09-09 12:00:34.724</th>\n",
       "      <td>09/09/2021</td>\n",
       "      <td>12:00:34.724</td>\n",
       "      <td>NaN</td>\n",
       "      <td>27.4130</td>\n",
       "      <td>35.8316</td>\n",
       "      <td>1541.24</td>\n",
       "      <td>2021-09-09 12:00:34.724</td>\n",
       "    </tr>\n",
       "    <tr>\n",
       "      <th>2021-09-09 12:00:44.717</th>\n",
       "      <td>09/09/2021</td>\n",
       "      <td>12:00:44.717</td>\n",
       "      <td>NaN</td>\n",
       "      <td>27.4145</td>\n",
       "      <td>35.8318</td>\n",
       "      <td>1541.25</td>\n",
       "      <td>2021-09-09 12:00:44.717</td>\n",
       "    </tr>\n",
       "    <tr>\n",
       "      <th>2021-09-09 12:00:54.723</th>\n",
       "      <td>09/09/2021</td>\n",
       "      <td>12:00:54.723</td>\n",
       "      <td>NaN</td>\n",
       "      <td>27.4163</td>\n",
       "      <td>35.8325</td>\n",
       "      <td>1541.25</td>\n",
       "      <td>2021-09-09 12:00:54.723</td>\n",
       "    </tr>\n",
       "  </tbody>\n",
       "</table>\n",
       "<p>39259 rows × 7 columns</p>\n",
       "</div>"
      ],
      "text/plain": [
       "                               date          time  delete        T        S  \\\n",
       "datetime                                                                      \n",
       "2021-09-04 22:57:51.709  09/04/2021  22:57:51.709     NaN  26.5469  36.0464   \n",
       "2021-09-04 22:58:01.635  09/04/2021  22:58:01.635     NaN  26.5226  36.0374   \n",
       "2021-09-04 22:58:11.623  09/04/2021  22:58:11.623     NaN  26.4849  36.0074   \n",
       "2021-09-04 22:58:21.627  09/04/2021  22:58:21.627     NaN  26.4642  35.9757   \n",
       "2021-09-04 22:58:31.627  09/04/2021  22:58:31.627     NaN  26.4588  35.9478   \n",
       "...                             ...           ...     ...      ...      ...   \n",
       "2021-09-09 12:00:14.732  09/09/2021  12:00:14.732     NaN  27.4096  35.8314   \n",
       "2021-09-09 12:00:24.733  09/09/2021  12:00:24.733     NaN  27.4104  35.8320   \n",
       "2021-09-09 12:00:34.724  09/09/2021  12:00:34.724     NaN  27.4130  35.8316   \n",
       "2021-09-09 12:00:44.717  09/09/2021  12:00:44.717     NaN  27.4145  35.8318   \n",
       "2021-09-09 12:00:54.723  09/09/2021  12:00:54.723     NaN  27.4163  35.8325   \n",
       "\n",
       "                         unknown                datetime  \n",
       "datetime                                                  \n",
       "2021-09-04 22:57:51.709  1539.56 2021-09-04 22:57:51.709  \n",
       "2021-09-04 22:58:01.635  1539.49 2021-09-04 22:58:01.635  \n",
       "2021-09-04 22:58:11.623  1539.38 2021-09-04 22:58:11.623  \n",
       "2021-09-04 22:58:21.627  1539.30 2021-09-04 22:58:21.627  \n",
       "2021-09-04 22:58:31.627  1539.25 2021-09-04 22:58:31.627  \n",
       "...                          ...                     ...  \n",
       "2021-09-09 12:00:14.732  1541.24 2021-09-09 12:00:14.732  \n",
       "2021-09-09 12:00:24.733  1541.24 2021-09-09 12:00:24.733  \n",
       "2021-09-09 12:00:34.724  1541.24 2021-09-09 12:00:34.724  \n",
       "2021-09-09 12:00:44.717  1541.25 2021-09-09 12:00:44.717  \n",
       "2021-09-09 12:00:54.723  1541.25 2021-09-09 12:00:54.723  \n",
       "\n",
       "[39259 rows x 7 columns]"
      ]
     },
     "execution_count": 69,
     "metadata": {},
     "output_type": "execute_result"
    }
   ],
   "source": [
    "tsg_original"
   ]
  },
  {
   "cell_type": "code",
   "execution_count": 70,
   "id": "bf6a589d-b563-4c6c-a71e-6deea12d7b92",
   "metadata": {},
   "outputs": [],
   "source": [
    "gps_original['datetime'] = pd.to_datetime(gps_original['date'] + ' ' + gps_original['time'])"
   ]
  },
  {
   "cell_type": "code",
   "execution_count": 71,
   "id": "76347f10-fc23-4f5f-8381-58866ebe6b7b",
   "metadata": {},
   "outputs": [],
   "source": [
    "gps_original = gps_original.set_index('datetime')"
   ]
  },
  {
   "cell_type": "code",
   "execution_count": 72,
   "id": "872e8d47-9c55-46db-9dfe-3f0cd67c4ae0",
   "metadata": {},
   "outputs": [],
   "source": [
    "indices = []\n",
    "for i in range(len(tsg_original)):\n",
    "    indices.append(gps_original.index.get_loc(tsg_original.iloc[i].datetime, method='nearest'))"
   ]
  },
  {
   "cell_type": "code",
   "execution_count": 73,
   "id": "75a7081d-0e99-403f-88a1-d34d51766c91",
   "metadata": {},
   "outputs": [],
   "source": [
    "gps_subset = gps_original.iloc[indices]"
   ]
  },
  {
   "cell_type": "code",
   "execution_count": 74,
   "id": "ee64d5bc-23d4-475f-b37d-95ab2cf4510b",
   "metadata": {},
   "outputs": [
    {
     "name": "stderr",
     "output_type": "stream",
     "text": [
      "<ipython-input-74-9342abf7a88e>:9: SettingWithCopyWarning: \n",
      "A value is trying to be set on a copy of a slice from a DataFrame.\n",
      "Try using .loc[row_indexer,col_indexer] = value instead\n",
      "\n",
      "See the caveats in the documentation: https://pandas.pydata.org/pandas-docs/stable/user_guide/indexing.html#returning-a-view-versus-a-copy\n",
      "  gps_subset['lon'] = dms2dd(pd.to_numeric(gps_subset['londms'].astype(str).str[:2]).astype(float), pd.to_numeric(gps_subset['londms'].astype(str).str[2:]),np.array(0), 'W')\n",
      "<ipython-input-74-9342abf7a88e>:10: SettingWithCopyWarning: \n",
      "A value is trying to be set on a copy of a slice from a DataFrame.\n",
      "Try using .loc[row_indexer,col_indexer] = value instead\n",
      "\n",
      "See the caveats in the documentation: https://pandas.pydata.org/pandas-docs/stable/user_guide/indexing.html#returning-a-view-versus-a-copy\n",
      "  gps_subset['lat'] = dms2dd(pd.to_numeric(gps_subset['latdms'].astype(str).str[:2]).astype(float), pd.to_numeric(gps_subset['latdms'].astype(str).str[2:]),np.array(0), 'E')\n"
     ]
    }
   ],
   "source": [
    "import numpy as np\n",
    "\n",
    "def dms2dd(degrees, minutes, seconds, direction):\n",
    "    dd = degrees + minutes/60 + seconds/(60*60);\n",
    "    if direction == 'W' or direction == 'S':\n",
    "        dd *= -1\n",
    "    return dd;\n",
    "\n",
    "gps_subset['lon'] = dms2dd(pd.to_numeric(gps_subset['londms'].astype(str).str[:2]).astype(float), pd.to_numeric(gps_subset['londms'].astype(str).str[2:]),np.array(0), 'W')\n",
    "gps_subset['lat'] = dms2dd(pd.to_numeric(gps_subset['latdms'].astype(str).str[:2]).astype(float), pd.to_numeric(gps_subset['latdms'].astype(str).str[2:]),np.array(0), 'E')"
   ]
  },
  {
   "cell_type": "code",
   "execution_count": 75,
   "id": "53105b6c-129d-40cd-9ee8-65e843023aeb",
   "metadata": {},
   "outputs": [
    {
     "data": {
      "text/html": [
       "<div>\n",
       "<style scoped>\n",
       "    .dataframe tbody tr th:only-of-type {\n",
       "        vertical-align: middle;\n",
       "    }\n",
       "\n",
       "    .dataframe tbody tr th {\n",
       "        vertical-align: top;\n",
       "    }\n",
       "\n",
       "    .dataframe thead th {\n",
       "        text-align: right;\n",
       "    }\n",
       "</style>\n",
       "<table border=\"1\" class=\"dataframe\">\n",
       "  <thead>\n",
       "    <tr style=\"text-align: right;\">\n",
       "      <th></th>\n",
       "      <th>date</th>\n",
       "      <th>time</th>\n",
       "      <th>gps</th>\n",
       "      <th>unknown</th>\n",
       "      <th>latdms</th>\n",
       "      <th>lat_sign</th>\n",
       "      <th>londms</th>\n",
       "      <th>lon_sign</th>\n",
       "      <th>1</th>\n",
       "      <th>2</th>\n",
       "      <th>3</th>\n",
       "      <th>4</th>\n",
       "      <th>5</th>\n",
       "      <th>6</th>\n",
       "      <th>7</th>\n",
       "      <th>lon</th>\n",
       "      <th>lat</th>\n",
       "    </tr>\n",
       "    <tr>\n",
       "      <th>datetime</th>\n",
       "      <th></th>\n",
       "      <th></th>\n",
       "      <th></th>\n",
       "      <th></th>\n",
       "      <th></th>\n",
       "      <th></th>\n",
       "      <th></th>\n",
       "      <th></th>\n",
       "      <th></th>\n",
       "      <th></th>\n",
       "      <th></th>\n",
       "      <th></th>\n",
       "      <th></th>\n",
       "      <th></th>\n",
       "      <th></th>\n",
       "      <th></th>\n",
       "      <th></th>\n",
       "    </tr>\n",
       "  </thead>\n",
       "  <tbody>\n",
       "    <tr>\n",
       "      <th>2021-09-04 22:57:51.969</th>\n",
       "      <td>09/04/2021</td>\n",
       "      <td>22:57:51.969</td>\n",
       "      <td>$GPGGA</td>\n",
       "      <td>230114.00</td>\n",
       "      <td>3438.1081</td>\n",
       "      <td>N</td>\n",
       "      <td>7639.5340</td>\n",
       "      <td>W</td>\n",
       "      <td>2</td>\n",
       "      <td>28</td>\n",
       "      <td>0.5</td>\n",
       "      <td>-27.0</td>\n",
       "      <td>M</td>\n",
       "      <td>-36.9</td>\n",
       "      <td>M*73</td>\n",
       "      <td>-76.658900</td>\n",
       "      <td>34.635135</td>\n",
       "    </tr>\n",
       "    <tr>\n",
       "      <th>2021-09-04 22:58:01.949</th>\n",
       "      <td>09/04/2021</td>\n",
       "      <td>22:58:01.949</td>\n",
       "      <td>$GPGGA</td>\n",
       "      <td>230123.68</td>\n",
       "      <td>3438.0566</td>\n",
       "      <td>N</td>\n",
       "      <td>7639.5045</td>\n",
       "      <td>W</td>\n",
       "      <td>2</td>\n",
       "      <td>28</td>\n",
       "      <td>0.5</td>\n",
       "      <td>-26.4</td>\n",
       "      <td>M</td>\n",
       "      <td>-36.9</td>\n",
       "      <td>M*47</td>\n",
       "      <td>-76.658408</td>\n",
       "      <td>34.634277</td>\n",
       "    </tr>\n",
       "    <tr>\n",
       "      <th>2021-09-04 22:58:12.102</th>\n",
       "      <td>09/04/2021</td>\n",
       "      <td>22:58:12.102</td>\n",
       "      <td>$GPGGA</td>\n",
       "      <td>230133.68</td>\n",
       "      <td>3438.0046</td>\n",
       "      <td>N</td>\n",
       "      <td>7639.4760</td>\n",
       "      <td>W</td>\n",
       "      <td>2</td>\n",
       "      <td>28</td>\n",
       "      <td>0.5</td>\n",
       "      <td>-26.6</td>\n",
       "      <td>M</td>\n",
       "      <td>-36.9</td>\n",
       "      <td>M*42</td>\n",
       "      <td>-76.657933</td>\n",
       "      <td>34.633410</td>\n",
       "    </tr>\n",
       "    <tr>\n",
       "      <th>2021-09-04 22:58:21.706</th>\n",
       "      <td>09/04/2021</td>\n",
       "      <td>22:58:21.706</td>\n",
       "      <td>$GPGGA</td>\n",
       "      <td>230143.69</td>\n",
       "      <td>3437.9533</td>\n",
       "      <td>N</td>\n",
       "      <td>7639.4463</td>\n",
       "      <td>W</td>\n",
       "      <td>2</td>\n",
       "      <td>27</td>\n",
       "      <td>0.5</td>\n",
       "      <td>-27.2</td>\n",
       "      <td>M</td>\n",
       "      <td>-36.9</td>\n",
       "      <td>M*4F</td>\n",
       "      <td>-76.657438</td>\n",
       "      <td>34.632555</td>\n",
       "    </tr>\n",
       "    <tr>\n",
       "      <th>2021-09-04 22:58:31.002</th>\n",
       "      <td>09/04/2021</td>\n",
       "      <td>22:58:31.002</td>\n",
       "      <td>$GPGGA</td>\n",
       "      <td>230152.69</td>\n",
       "      <td>3437.9070</td>\n",
       "      <td>N</td>\n",
       "      <td>7639.4200</td>\n",
       "      <td>W</td>\n",
       "      <td>2</td>\n",
       "      <td>27</td>\n",
       "      <td>0.5</td>\n",
       "      <td>-27.0</td>\n",
       "      <td>M</td>\n",
       "      <td>-36.9</td>\n",
       "      <td>M*52</td>\n",
       "      <td>-76.657000</td>\n",
       "      <td>34.631783</td>\n",
       "    </tr>\n",
       "  </tbody>\n",
       "</table>\n",
       "</div>"
      ],
      "text/plain": [
       "                               date          time     gps    unknown  \\\n",
       "datetime                                                               \n",
       "2021-09-04 22:57:51.969  09/04/2021  22:57:51.969  $GPGGA  230114.00   \n",
       "2021-09-04 22:58:01.949  09/04/2021  22:58:01.949  $GPGGA  230123.68   \n",
       "2021-09-04 22:58:12.102  09/04/2021  22:58:12.102  $GPGGA  230133.68   \n",
       "2021-09-04 22:58:21.706  09/04/2021  22:58:21.706  $GPGGA  230143.69   \n",
       "2021-09-04 22:58:31.002  09/04/2021  22:58:31.002  $GPGGA  230152.69   \n",
       "\n",
       "                            latdms lat_sign     londms lon_sign  1   2    3  \\\n",
       "datetime                                                                      \n",
       "2021-09-04 22:57:51.969  3438.1081        N  7639.5340        W  2  28  0.5   \n",
       "2021-09-04 22:58:01.949  3438.0566        N  7639.5045        W  2  28  0.5   \n",
       "2021-09-04 22:58:12.102  3438.0046        N  7639.4760        W  2  28  0.5   \n",
       "2021-09-04 22:58:21.706  3437.9533        N  7639.4463        W  2  27  0.5   \n",
       "2021-09-04 22:58:31.002  3437.9070        N  7639.4200        W  2  27  0.5   \n",
       "\n",
       "                            4  5     6     7        lon        lat  \n",
       "datetime                                                            \n",
       "2021-09-04 22:57:51.969 -27.0  M -36.9  M*73 -76.658900  34.635135  \n",
       "2021-09-04 22:58:01.949 -26.4  M -36.9  M*47 -76.658408  34.634277  \n",
       "2021-09-04 22:58:12.102 -26.6  M -36.9  M*42 -76.657933  34.633410  \n",
       "2021-09-04 22:58:21.706 -27.2  M -36.9  M*4F -76.657438  34.632555  \n",
       "2021-09-04 22:58:31.002 -27.0  M -36.9  M*52 -76.657000  34.631783  "
      ]
     },
     "execution_count": 75,
     "metadata": {},
     "output_type": "execute_result"
    }
   ],
   "source": [
    "gps_subset.head()"
   ]
  },
  {
   "cell_type": "code",
   "execution_count": 76,
   "id": "e12a58d8-716d-4703-8a8e-69da8192d529",
   "metadata": {},
   "outputs": [],
   "source": [
    "tsg_original['latdms'] = gps_subset['latdms'].values\n",
    "tsg_original['londms'] = gps_subset['londms'].values"
   ]
  },
  {
   "cell_type": "code",
   "execution_count": null,
   "id": "b17f5122-2220-41c5-80d9-4a584725069a",
   "metadata": {},
   "outputs": [],
   "source": [
    "lat=43 47.66737 N, lon=069 57.81890 W, hms=122029, dmy=040821, t1=18.254000, c1=4.118110, s=30.812400, sigma=22.007600"
   ]
  },
  {
   "cell_type": "code",
   "execution_count": 105,
   "id": "f7b0833d-1a78-4d10-a0b0-7aacae97bc02",
   "metadata": {},
   "outputs": [
    {
     "data": {
      "text/plain": [
       "'225801'"
      ]
     },
     "execution_count": 105,
     "metadata": {},
     "output_type": "execute_result"
    }
   ],
   "source": [
    "tsg_original.iloc[1].datetime.strftime('%H%M%S') # %d/%m/%y"
   ]
  },
  {
   "cell_type": "code",
   "execution_count": 113,
   "id": "a71f6540-473a-4341-9ba6-30bbbf43d9de",
   "metadata": {},
   "outputs": [
    {
     "data": {
      "text/plain": [
       "'040921'"
      ]
     },
     "execution_count": 113,
     "metadata": {},
     "output_type": "execute_result"
    }
   ],
   "source": [
    "row.datetime.strftime('%d%m%y')"
   ]
  },
  {
   "cell_type": "code",
   "execution_count": 115,
   "id": "e2c300f7-af01-4da1-9b1c-fa21db73602c",
   "metadata": {},
   "outputs": [
    {
     "data": {
      "text/plain": [
       "26.5469"
      ]
     },
     "execution_count": 115,
     "metadata": {},
     "output_type": "execute_result"
    }
   ],
   "source": [
    "row['T']"
   ]
  },
  {
   "cell_type": "code",
   "execution_count": 122,
   "id": "a669091d-9901-42bb-be0c-06d97bd3477e",
   "metadata": {},
   "outputs": [],
   "source": [
    "f = open('tsg_20210904.txt', 'w')\n",
    "i=0\n",
    "for index, row in tsg_original.iterrows():\n",
    "    if i > len(tsg_original):\n",
    "        break\n",
    "    else:\n",
    "        f.write('lat='+str(row['latdms'])[:2]+' '+str(row['latdms'])[2:]+' N, ')\n",
    "        f.write('lon=0'+str(row['latdms'])[:2]+' '+str(row['latdms'])[2:]+' W, ')\n",
    "        f.write('hms='+row.datetime.strftime('%H%M%S')+', ')\n",
    "        f.write('dmy='+row.datetime.strftime('%d%m%y')+', ')\n",
    "        f.write('t1='+str(row['T'])+', ')\n",
    "        f.write('c1=0, ')\n",
    "        f.write('s='+str(row['S'])+', ')\n",
    "        f.write('sigma=0\\n')\n",
    "        i+=1\n",
    "f.close()"
   ]
  },
  {
   "cell_type": "markdown",
   "id": "1342efe8-f39c-4696-bfd4-06fbe85fa2ea",
   "metadata": {},
   "source": [
    "### Converting flow control to proper format"
   ]
  },
  {
   "cell_type": "markdown",
   "id": "45156049-ec18-479c-8d5e-8a1ef9ef82c8",
   "metadata": {},
   "source": [
    "proper format is \n",
    "2021-08-04 19:00:01 UTC\t1\t0110\t0.00\t43.48\t0.000\t2.469\n",
    "        \n",
    "my format is\n",
    "09/04/2021,22:23:38.407,$FLOW,0,mL/s"
   ]
  },
  {
   "cell_type": "code",
   "execution_count": 127,
   "id": "1cb4d2cb-ba23-46ec-9e76-e4334e725da9",
   "metadata": {},
   "outputs": [],
   "source": [
    "flow_df = pd.read_csv(data_src+'SW21011R_RFP/TSG/FlowMeter-_20210904-222337.Raw', header=None, names=['date', 'time', 'flowname', 'flow', 'units'])"
   ]
  },
  {
   "cell_type": "code",
   "execution_count": 128,
   "id": "ded35e2f-ec7c-4486-9842-6d714e84305c",
   "metadata": {},
   "outputs": [
    {
     "data": {
      "text/html": [
       "<div>\n",
       "<style scoped>\n",
       "    .dataframe tbody tr th:only-of-type {\n",
       "        vertical-align: middle;\n",
       "    }\n",
       "\n",
       "    .dataframe tbody tr th {\n",
       "        vertical-align: top;\n",
       "    }\n",
       "\n",
       "    .dataframe thead th {\n",
       "        text-align: right;\n",
       "    }\n",
       "</style>\n",
       "<table border=\"1\" class=\"dataframe\">\n",
       "  <thead>\n",
       "    <tr style=\"text-align: right;\">\n",
       "      <th></th>\n",
       "      <th>date</th>\n",
       "      <th>time</th>\n",
       "      <th>flowname</th>\n",
       "      <th>flow</th>\n",
       "      <th>units</th>\n",
       "    </tr>\n",
       "  </thead>\n",
       "  <tbody>\n",
       "    <tr>\n",
       "      <th>0</th>\n",
       "      <td>09/04/2021</td>\n",
       "      <td>22:23:38.407</td>\n",
       "      <td>$FLOW</td>\n",
       "      <td>0.0</td>\n",
       "      <td>mL/s</td>\n",
       "    </tr>\n",
       "    <tr>\n",
       "      <th>1</th>\n",
       "      <td>09/04/2021</td>\n",
       "      <td>22:23:39.415</td>\n",
       "      <td>$FLOW</td>\n",
       "      <td>0.0</td>\n",
       "      <td>mL/s</td>\n",
       "    </tr>\n",
       "    <tr>\n",
       "      <th>2</th>\n",
       "      <td>09/04/2021</td>\n",
       "      <td>22:23:40.418</td>\n",
       "      <td>$FLOW</td>\n",
       "      <td>0.0</td>\n",
       "      <td>mL/s</td>\n",
       "    </tr>\n",
       "    <tr>\n",
       "      <th>3</th>\n",
       "      <td>09/04/2021</td>\n",
       "      <td>22:23:41.431</td>\n",
       "      <td>$FLOW</td>\n",
       "      <td>0.0</td>\n",
       "      <td>mL/s</td>\n",
       "    </tr>\n",
       "    <tr>\n",
       "      <th>4</th>\n",
       "      <td>09/04/2021</td>\n",
       "      <td>22:23:42.433</td>\n",
       "      <td>$FLOW</td>\n",
       "      <td>0.0</td>\n",
       "      <td>mL/s</td>\n",
       "    </tr>\n",
       "    <tr>\n",
       "      <th>...</th>\n",
       "      <td>...</td>\n",
       "      <td>...</td>\n",
       "      <td>...</td>\n",
       "      <td>...</td>\n",
       "      <td>...</td>\n",
       "    </tr>\n",
       "    <tr>\n",
       "      <th>389779</th>\n",
       "      <td>09/09/2021</td>\n",
       "      <td>12:01:10.306</td>\n",
       "      <td>$FLOW</td>\n",
       "      <td>0.0</td>\n",
       "      <td>mL/s</td>\n",
       "    </tr>\n",
       "    <tr>\n",
       "      <th>389780</th>\n",
       "      <td>09/09/2021</td>\n",
       "      <td>12:01:11.313</td>\n",
       "      <td>$FLOW</td>\n",
       "      <td>0.0</td>\n",
       "      <td>mL/s</td>\n",
       "    </tr>\n",
       "    <tr>\n",
       "      <th>389781</th>\n",
       "      <td>09/09/2021</td>\n",
       "      <td>12:01:12.318</td>\n",
       "      <td>$FLOW</td>\n",
       "      <td>0.0</td>\n",
       "      <td>mL/s</td>\n",
       "    </tr>\n",
       "    <tr>\n",
       "      <th>389782</th>\n",
       "      <td>09/09/2021</td>\n",
       "      <td>12:01:13.324</td>\n",
       "      <td>$FLOW</td>\n",
       "      <td>0.0</td>\n",
       "      <td>mL/s</td>\n",
       "    </tr>\n",
       "    <tr>\n",
       "      <th>389783</th>\n",
       "      <td>09/09/2021</td>\n",
       "      <td>12:01:14.330</td>\n",
       "      <td>$FLOW</td>\n",
       "      <td>0.0</td>\n",
       "      <td>mL/s</td>\n",
       "    </tr>\n",
       "  </tbody>\n",
       "</table>\n",
       "<p>389784 rows × 5 columns</p>\n",
       "</div>"
      ],
      "text/plain": [
       "              date          time flowname  flow units\n",
       "0       09/04/2021  22:23:38.407    $FLOW   0.0  mL/s\n",
       "1       09/04/2021  22:23:39.415    $FLOW   0.0  mL/s\n",
       "2       09/04/2021  22:23:40.418    $FLOW   0.0  mL/s\n",
       "3       09/04/2021  22:23:41.431    $FLOW   0.0  mL/s\n",
       "4       09/04/2021  22:23:42.433    $FLOW   0.0  mL/s\n",
       "...            ...           ...      ...   ...   ...\n",
       "389779  09/09/2021  12:01:10.306    $FLOW   0.0  mL/s\n",
       "389780  09/09/2021  12:01:11.313    $FLOW   0.0  mL/s\n",
       "389781  09/09/2021  12:01:12.318    $FLOW   0.0  mL/s\n",
       "389782  09/09/2021  12:01:13.324    $FLOW   0.0  mL/s\n",
       "389783  09/09/2021  12:01:14.330    $FLOW   0.0  mL/s\n",
       "\n",
       "[389784 rows x 5 columns]"
      ]
     },
     "execution_count": 128,
     "metadata": {},
     "output_type": "execute_result"
    }
   ],
   "source": [
    "flow_df"
   ]
  },
  {
   "cell_type": "code",
   "execution_count": 130,
   "id": "2624b569-3f82-4df9-b1d9-30a18f6d8b8b",
   "metadata": {},
   "outputs": [],
   "source": [
    "flow_df['datetime'] = pd.to_datetime(flow_df.date + ' ' + flow_df.time)"
   ]
  },
  {
   "cell_type": "code",
   "execution_count": 131,
   "id": "739ea341-fe0f-4fe1-a8d8-e629d726262f",
   "metadata": {},
   "outputs": [
    {
     "data": {
      "text/html": [
       "<div>\n",
       "<style scoped>\n",
       "    .dataframe tbody tr th:only-of-type {\n",
       "        vertical-align: middle;\n",
       "    }\n",
       "\n",
       "    .dataframe tbody tr th {\n",
       "        vertical-align: top;\n",
       "    }\n",
       "\n",
       "    .dataframe thead th {\n",
       "        text-align: right;\n",
       "    }\n",
       "</style>\n",
       "<table border=\"1\" class=\"dataframe\">\n",
       "  <thead>\n",
       "    <tr style=\"text-align: right;\">\n",
       "      <th></th>\n",
       "      <th>date</th>\n",
       "      <th>time</th>\n",
       "      <th>flowname</th>\n",
       "      <th>flow</th>\n",
       "      <th>units</th>\n",
       "      <th>datetime</th>\n",
       "    </tr>\n",
       "  </thead>\n",
       "  <tbody>\n",
       "    <tr>\n",
       "      <th>0</th>\n",
       "      <td>09/04/2021</td>\n",
       "      <td>22:23:38.407</td>\n",
       "      <td>$FLOW</td>\n",
       "      <td>0.0</td>\n",
       "      <td>mL/s</td>\n",
       "      <td>2021-09-04 22:23:38.407</td>\n",
       "    </tr>\n",
       "    <tr>\n",
       "      <th>1</th>\n",
       "      <td>09/04/2021</td>\n",
       "      <td>22:23:39.415</td>\n",
       "      <td>$FLOW</td>\n",
       "      <td>0.0</td>\n",
       "      <td>mL/s</td>\n",
       "      <td>2021-09-04 22:23:39.415</td>\n",
       "    </tr>\n",
       "    <tr>\n",
       "      <th>2</th>\n",
       "      <td>09/04/2021</td>\n",
       "      <td>22:23:40.418</td>\n",
       "      <td>$FLOW</td>\n",
       "      <td>0.0</td>\n",
       "      <td>mL/s</td>\n",
       "      <td>2021-09-04 22:23:40.418</td>\n",
       "    </tr>\n",
       "    <tr>\n",
       "      <th>3</th>\n",
       "      <td>09/04/2021</td>\n",
       "      <td>22:23:41.431</td>\n",
       "      <td>$FLOW</td>\n",
       "      <td>0.0</td>\n",
       "      <td>mL/s</td>\n",
       "      <td>2021-09-04 22:23:41.431</td>\n",
       "    </tr>\n",
       "    <tr>\n",
       "      <th>4</th>\n",
       "      <td>09/04/2021</td>\n",
       "      <td>22:23:42.433</td>\n",
       "      <td>$FLOW</td>\n",
       "      <td>0.0</td>\n",
       "      <td>mL/s</td>\n",
       "      <td>2021-09-04 22:23:42.433</td>\n",
       "    </tr>\n",
       "  </tbody>\n",
       "</table>\n",
       "</div>"
      ],
      "text/plain": [
       "         date          time flowname  flow units                datetime\n",
       "0  09/04/2021  22:23:38.407    $FLOW   0.0  mL/s 2021-09-04 22:23:38.407\n",
       "1  09/04/2021  22:23:39.415    $FLOW   0.0  mL/s 2021-09-04 22:23:39.415\n",
       "2  09/04/2021  22:23:40.418    $FLOW   0.0  mL/s 2021-09-04 22:23:40.418\n",
       "3  09/04/2021  22:23:41.431    $FLOW   0.0  mL/s 2021-09-04 22:23:41.431\n",
       "4  09/04/2021  22:23:42.433    $FLOW   0.0  mL/s 2021-09-04 22:23:42.433"
      ]
     },
     "execution_count": 131,
     "metadata": {},
     "output_type": "execute_result"
    }
   ],
   "source": [
    "flow_df.head()"
   ]
  },
  {
   "cell_type": "code",
   "execution_count": null,
   "id": "54f8ed2b-d2d0-4683-b12e-24df99ce8741",
   "metadata": {},
   "outputs": [],
   "source": [
    "2021-08-04 19:00:01 UTC\t1\t0110\t0.00\t43.48\t0.000\t2.469\n",
    "2021-09-04 22:23:38 UTC\t1\t0110\t0.00\t50.0\t0.00\t0.0"
   ]
  },
  {
   "cell_type": "code",
   "execution_count": 132,
   "id": "932bae15-0bcd-433c-bf0c-61bd591b9d93",
   "metadata": {},
   "outputs": [
    {
     "data": {
      "text/plain": [
       "'22:23:48'"
      ]
     },
     "execution_count": 132,
     "metadata": {},
     "output_type": "execute_result"
    }
   ],
   "source": [
    "flow_df.iloc[10].datetime.strftime('%H:%M:%S')"
   ]
  },
  {
   "cell_type": "code",
   "execution_count": 144,
   "id": "91800a02-4f6a-4c99-ab76-90aac6c8d05f",
   "metadata": {},
   "outputs": [
    {
     "data": {
      "text/plain": [
       "'2021-09-04'"
      ]
     },
     "execution_count": 144,
     "metadata": {},
     "output_type": "execute_result"
    }
   ],
   "source": [
    "flow_df.iloc[10].datetime.strftime('%Y-%m-%d')"
   ]
  },
  {
   "cell_type": "code",
   "execution_count": 139,
   "id": "237eb15e-3cf6-43aa-b11e-5cb31d3867d1",
   "metadata": {},
   "outputs": [
    {
     "data": {
      "text/plain": [
       "1.05"
      ]
     },
     "execution_count": 139,
     "metadata": {},
     "output_type": "execute_result"
    }
   ],
   "source": []
  },
  {
   "cell_type": "code",
   "execution_count": 151,
   "id": "2979db0b-2aa7-4d52-9659-0d4decbd0a42",
   "metadata": {},
   "outputs": [],
   "source": [
    "f = open('Flow_20210904.txt', 'w')\n",
    "i=0\n",
    "for index, row in flow_df.iterrows():\n",
    "    if i > len(flow_df):\n",
    "        break\n",
    "    else:\n",
    "        f.write(row.datetime.strftime('%Y-%m-%d')+' '+row.datetime.strftime('%H:%M:%S')+' ')\n",
    "        f.write('UTC\\t1\\t')\n",
    "        f.write('0110\\t0.00\\t')\n",
    "        f.write(str(row['flow']*60/1000)+'\\t')\n",
    "        f.write('0.00\\t')\n",
    "        f.write('0.00\\n')\n",
    "        \n",
    "        i+=1\n",
    "f.close()"
   ]
  }
 ],
 "metadata": {
  "kernelspec": {
   "display_name": "Python 3",
   "language": "python",
   "name": "python3"
  },
  "language_info": {
   "codemirror_mode": {
    "name": "ipython",
    "version": 3
   },
   "file_extension": ".py",
   "mimetype": "text/x-python",
   "name": "python",
   "nbconvert_exporter": "python",
   "pygments_lexer": "ipython3",
   "version": "3.8.10"
  }
 },
 "nbformat": 4,
 "nbformat_minor": 5
}
